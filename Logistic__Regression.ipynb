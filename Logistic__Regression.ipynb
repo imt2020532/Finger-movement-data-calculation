{
 "cells": [
  {
   "cell_type": "code",
   "execution_count": 93,
   "metadata": {},
   "outputs": [],
   "source": [
    "import sys\n",
    "import numpy as np\n",
    "import pandas as pd \n",
    "import math\n",
    "import matplotlib.pyplot as plt\n",
    "import seaborn as sns\n",
    "\n",
    "from sklearn.metrics import accuracy_score, confusion_matrix, roc_auc_score, roc_curve\n",
    "\n",
    "\n",
    "df = pd.read_csv(\"chip1__Model.csv\")"
   ]
  },
  {
   "cell_type": "markdown",
   "metadata": {},
   "source": [
    "getting the data from the csv file."
   ]
  },
  {
   "cell_type": "code",
   "execution_count": 94,
   "metadata": {},
   "outputs": [
    {
     "data": {
      "image/png": "[encoded data removed]",
      "text/plain": [
       "<Figure size 640x480 with 2 Axes>"
      ]
     },
     "metadata": {},
     "output_type": "display_data"
    }
   ],
   "source": [
    "dataplot = sns.heatmap(df.corr(), cmap=\"YlGnBu\", annot=True)\n",
    "  \n",
    "plt.show()"
   ]
  },
  {
   "cell_type": "markdown",
   "metadata": {},
   "source": [
    "plotting the correlation heatmap to check the correlation."
   ]
  },
  {
   "cell_type": "code",
   "execution_count": 95,
   "metadata": {},
   "outputs": [],
   "source": [
    "df = df.sample(frac=1)\n",
    "\n",
    "n_train = math.floor(0.5 * df.shape[0])\n",
    "n_test = math.ceil((1-0.5) * df.shape[0])\n",
    "X_train = df[:n_train]\n",
    "y_train = df[:n_train]\n",
    "X_test = df[n_train:]\n",
    "y_test = df[n_train:]\n",
    "#print(\"Total Number of rows in train:\",X_train.shape[0])\n",
    "#print(\"Total Number of rows in test:\",X_test.shape[0])\n"
   ]
  },
  {
   "cell_type": "markdown",
   "metadata": {},
   "source": [
    "Splitting the data into train test, and also shuffling it before splitting."
   ]
  },
  {
   "cell_type": "code",
   "execution_count": 96,
   "metadata": {},
   "outputs": [],
   "source": [
    "\n",
    "X_train=X_train.drop(columns=\"Class\")\n",
    "X_test=X_test.drop(columns=\"Class\")\n",
    "\n",
    "#X_train=X_train.drop(columns=\"skewness\")\n",
    "#X_train=X_train.drop(columns=\"curtosis\")\n",
    "#X_train=X_train.drop(columns=\"variance\")\n",
    "#\n",
    "#X_test=X_test.drop(columns=\"skewness\")\n",
    "#X_test=X_test.drop(columns=\"curtosis\")\n",
    "#X_test=X_test.drop(columns=\"variance\")\n",
    "\n",
    "\n",
    "y_train=y_train.drop(columns=\"X\")\n",
    "y_train=y_train.drop(columns=\"Y\")\n",
    "y_train=y_train.drop(columns=\"Z\")\n",
    "\n",
    "y_test=y_test.drop(columns=\"X\")\n",
    "y_test=y_test.drop(columns=\"Y\")\n",
    "y_test=y_test.drop(columns=\"Z\")\n"
   ]
  },
  {
   "cell_type": "markdown",
   "metadata": {},
   "source": [
    "Dropping unnecessary columns for making it easier."
   ]
  },
  {
   "cell_type": "code",
   "execution_count": 97,
   "metadata": {},
   "outputs": [],
   "source": [
    "l_rate = 0.01\n",
    "iterations = 5000\n",
    "\n",
    "m,n=X_train.shape\n",
    "W = np.zeros(n)\n",
    "b=0"
   ]
  },
  {
   "cell_type": "markdown",
   "metadata": {},
   "source": [
    "Setting up the learning rate and the number of iterations to converge the loss function."
   ]
  },
  {
   "cell_type": "code",
   "execution_count": 98,
   "metadata": {},
   "outputs": [],
   "source": [
    "X_train=X_train.to_numpy().astype(np.float64)\n",
    "y_train=y_train.to_numpy().astype(np.float64)\n",
    "X_test=X_test.to_numpy().astype(np.float64)\n",
    "y_test=y_test.to_numpy().astype(np.float64)"
   ]
  },
  {
   "cell_type": "markdown",
   "metadata": {},
   "source": [
    "Converting the matrix to numpy array."
   ]
  },
  {
   "cell_type": "code",
   "execution_count": 99,
   "metadata": {},
   "outputs": [
    {
     "name": "stderr",
     "output_type": "stream",
     "text": [
      "C:\\Users\\Anwit\\AppData\\Local\\Temp\\ipykernel_51488\\2430062382.py:3: RuntimeWarning: overflow encountered in exp\n",
      "  A = 1 / (1 + np.exp(-(X_train.dot(W) + b)))\n"
     ]
    }
   ],
   "source": [
    "for i in range(iterations) :\n",
    "    \n",
    "    A = 1 / (1 + np.exp(-(X_train.dot(W) + b)))    \n",
    "    temp = A- y_train.T\n",
    "    \n",
    "    temp = np.reshape(temp,m)\n",
    "    dW = np.dot(X_train.T, temp) / m\n",
    "    db = np.sum(temp)/m\n",
    "    \n",
    "    W = W -l_rate*dW\n",
    "    b = b - l_rate*db\n",
    "    \n",
    "    \n",
    "Z = 1 / (1 + np.exp(-(X_test.dot(W) + b)))\n",
    "\n",
    "for_rocauc = Z\n",
    "\n",
    "Y_pred = np.where(Z>0.5,1,0)"
   ]
  },
  {
   "cell_type": "markdown",
   "metadata": {},
   "source": [
    "Applying the gradient descent algorithm to get the optimum parameters, and then we put the test inputs, and setting the class label as 1 or 0 based on the probability, the output of the sigmoid function."
   ]
  },
  {
   "cell_type": "code",
   "execution_count": 100,
   "metadata": {},
   "outputs": [
    {
     "data": {
      "text/plain": [
       "array([[0.],\n",
       "       [0.],\n",
       "       [0.],\n",
       "       [1.],\n",
       "       [1.],\n",
       "       [1.],\n",
       "       [0.],\n",
       "       [0.],\n",
       "       [1.],\n",
       "       [1.],\n",
       "       [0.],\n",
       "       [0.],\n",
       "       [0.],\n",
       "       [1.],\n",
       "       [0.],\n",
       "       [0.],\n",
       "       [0.],\n",
       "       [0.],\n",
       "       [0.],\n",
       "       [1.],\n",
       "       [0.],\n",
       "       [0.],\n",
       "       [0.],\n",
       "       [0.],\n",
       "       [1.],\n",
       "       [0.],\n",
       "       [1.],\n",
       "       [1.],\n",
       "       [0.],\n",
       "       [0.],\n",
       "       [0.],\n",
       "       [1.],\n",
       "       [1.],\n",
       "       [1.],\n",
       "       [0.],\n",
       "       [0.],\n",
       "       [1.],\n",
       "       [0.],\n",
       "       [0.],\n",
       "       [0.],\n",
       "       [0.],\n",
       "       [1.],\n",
       "       [1.],\n",
       "       [1.],\n",
       "       [1.],\n",
       "       [1.],\n",
       "       [1.],\n",
       "       [1.],\n",
       "       [0.],\n",
       "       [0.],\n",
       "       [1.],\n",
       "       [0.],\n",
       "       [1.],\n",
       "       [0.],\n",
       "       [0.],\n",
       "       [0.],\n",
       "       [0.],\n",
       "       [0.],\n",
       "       [0.],\n",
       "       [1.],\n",
       "       [0.],\n",
       "       [0.],\n",
       "       [1.],\n",
       "       [1.],\n",
       "       [1.],\n",
       "       [1.],\n",
       "       [1.],\n",
       "       [0.],\n",
       "       [1.],\n",
       "       [1.],\n",
       "       [1.],\n",
       "       [1.],\n",
       "       [0.],\n",
       "       [0.],\n",
       "       [0.],\n",
       "       [1.],\n",
       "       [1.],\n",
       "       [0.],\n",
       "       [1.],\n",
       "       [0.],\n",
       "       [1.],\n",
       "       [1.],\n",
       "       [1.],\n",
       "       [1.],\n",
       "       [1.],\n",
       "       [1.],\n",
       "       [1.],\n",
       "       [1.],\n",
       "       [0.],\n",
       "       [1.],\n",
       "       [0.],\n",
       "       [0.],\n",
       "       [1.],\n",
       "       [1.],\n",
       "       [0.],\n",
       "       [0.],\n",
       "       [1.],\n",
       "       [0.],\n",
       "       [1.],\n",
       "       [0.],\n",
       "       [0.],\n",
       "       [1.],\n",
       "       [0.],\n",
       "       [0.],\n",
       "       [0.],\n",
       "       [0.],\n",
       "       [0.],\n",
       "       [1.],\n",
       "       [0.],\n",
       "       [1.],\n",
       "       [0.],\n",
       "       [1.],\n",
       "       [1.],\n",
       "       [1.],\n",
       "       [1.],\n",
       "       [1.],\n",
       "       [0.],\n",
       "       [0.],\n",
       "       [1.],\n",
       "       [1.],\n",
       "       [1.],\n",
       "       [0.],\n",
       "       [0.],\n",
       "       [1.],\n",
       "       [1.]])"
      ]
     },
     "execution_count": 100,
     "metadata": {},
     "output_type": "execute_result"
    }
   ],
   "source": [
    "y_test"
   ]
  },
  {
   "cell_type": "code",
   "execution_count": 101,
   "metadata": {},
   "outputs": [],
   "source": [
    "m = np.asmatrix(Y_pred).T"
   ]
  },
  {
   "cell_type": "code",
   "execution_count": 102,
   "metadata": {},
   "outputs": [
    {
     "name": "stdout",
     "output_type": "stream",
     "text": [
      "The F1 score is :-\n",
      "[[1.]]\n"
     ]
    }
   ],
   "source": [
    "true_positives = np.matmul(np.transpose(m),y_test)\n",
    "precision_deno = np.matmul(np.transpose(m),m)\n",
    "recall_deno = np.matmul(np.transpose(y_test),y_test)\n",
    "\n",
    "recall_deno\n",
    "\n",
    "#F1 Score = 2 * (Precision * Recall) / (Precision + Recall)\n",
    "\n",
    "finalf1 = 2*(true_positives/precision_deno)*(true_positives/recall_deno) / ((true_positives/precision_deno) + (true_positives/recall_deno) )\n",
    "\n",
    "print(\"The F1 score is :-\")\n",
    "print(finalf1)\n"
   ]
  },
  {
   "cell_type": "markdown",
   "metadata": {},
   "source": [
    "Implementing F1 score from scratch. \n",
    "\n",
    "F1 Score = 2 * (Precision * Recall) / (Precision + Recall)"
   ]
  },
  {
   "cell_type": "code",
   "execution_count": 103,
   "metadata": {},
   "outputs": [],
   "source": [
    "final_rows, final_columns = y_test.shape"
   ]
  },
  {
   "cell_type": "code",
   "execution_count": 104,
   "metadata": {},
   "outputs": [
    {
     "name": "stdout",
     "output_type": "stream",
     "text": [
      "The accuracy score is :-\n",
      "[[1.]]\n"
     ]
    }
   ],
   "source": [
    "print(\"The accuracy score is :-\")\n",
    "acc_score_nume = final_rows - (recall_deno + precision_deno - (2*true_positives) )\n",
    "acc_score_deno = final_rows\n",
    "print(acc_score_nume / acc_score_deno)"
   ]
  },
  {
   "cell_type": "markdown",
   "metadata": {},
   "source": [
    "Implementing Accuracy score from scratch."
   ]
  },
  {
   "cell_type": "code",
   "execution_count": 105,
   "metadata": {},
   "outputs": [
    {
     "name": "stdout",
     "output_type": "stream",
     "text": [
      "Auc score is :-\n",
      "1.0\n"
     ]
    }
   ],
   "source": [
    "auc = np.round(roc_auc_score(y_test, for_rocauc), 3)\n",
    "print(\"Auc score is :-\")\n",
    "print(auc)"
   ]
  },
  {
   "cell_type": "markdown",
   "metadata": {},
   "source": [
    "Implementing ROC-AUC score using sklearn."
   ]
  }
 ],
 "metadata": {
  "kernelspec": {
   "display_name": "Python 3.10.6 64-bit",
   "language": "python",
   "name": "python3"
  },
  "language_info": {
   "codemirror_mode": {
    "name": "ipython",
    "version": 3
   },
   "file_extension": ".py",
   "mimetype": "text/x-python",
   "name": "python",
   "nbconvert_exporter": "python",
   "pygments_lexer": "ipython3",
   "version": "3.10.6"
  },
  "orig_nbformat": 4,
  "vscode": {
   "interpreter": {
    "hash": "26de051ba29f2982a8de78e945f0abaf191376122a1563185a90213a26c5da77"
   }
  }
 },
 "nbformat": 4,
 "nbformat_minor": 2
}
